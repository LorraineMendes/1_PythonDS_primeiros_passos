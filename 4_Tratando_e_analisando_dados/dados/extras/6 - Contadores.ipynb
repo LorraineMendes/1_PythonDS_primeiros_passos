{
 "cells": [
  {
   "cell_type": "code",
   "execution_count": 1,
   "id": "b619a7df",
   "metadata": {},
   "outputs": [],
   "source": [
    "import pandas as pd"
   ]
  },
  {
   "cell_type": "code",
   "execution_count": 2,
   "id": "1aca228c",
   "metadata": {},
   "outputs": [],
   "source": [
    "s = pd.Series(list('hdsuahudahsuahdua'))"
   ]
  },
  {
   "cell_type": "code",
   "execution_count": 3,
   "id": "8b9b9eed",
   "metadata": {},
   "outputs": [
    {
     "data": {
      "text/plain": [
       "0     h\n",
       "1     d\n",
       "2     s\n",
       "3     u\n",
       "4     a\n",
       "5     h\n",
       "6     u\n",
       "7     d\n",
       "8     a\n",
       "9     h\n",
       "10    s\n",
       "11    u\n",
       "12    a\n",
       "13    h\n",
       "14    d\n",
       "15    u\n",
       "16    a\n",
       "dtype: object"
      ]
     },
     "execution_count": 3,
     "metadata": {},
     "output_type": "execute_result"
    }
   ],
   "source": [
    "s"
   ]
  },
  {
   "cell_type": "code",
   "execution_count": 4,
   "id": "a85f7f3a",
   "metadata": {},
   "outputs": [
    {
     "data": {
      "text/plain": [
       "array(['h', 'd', 's', 'u', 'a'], dtype=object)"
      ]
     },
     "execution_count": 4,
     "metadata": {},
     "output_type": "execute_result"
    }
   ],
   "source": [
    "s.unique()"
   ]
  },
  {
   "cell_type": "code",
   "execution_count": 6,
   "id": "c879982a",
   "metadata": {},
   "outputs": [
    {
     "data": {
      "text/plain": [
       "h    4\n",
       "u    4\n",
       "a    4\n",
       "d    3\n",
       "s    2\n",
       "dtype: int64"
      ]
     },
     "execution_count": 6,
     "metadata": {},
     "output_type": "execute_result"
    }
   ],
   "source": [
    "s.value_counts() #QUantas vezes aparece cada letra (distribuição de frequencias)"
   ]
  },
  {
   "cell_type": "code",
   "execution_count": 7,
   "id": "bc03ea2f",
   "metadata": {},
   "outputs": [],
   "source": [
    "dados = pd.read_csv('dados/aluguel.csv', sep=';')"
   ]
  },
  {
   "cell_type": "code",
   "execution_count": 9,
   "id": "cec6ce9c",
   "metadata": {},
   "outputs": [
    {
     "data": {
      "text/plain": [
       "array(['Apartamento', 'Casa', 'Casa de Condomínio', 'Casa de Vila',\n",
       "       'Quitinete'], dtype=object)"
      ]
     },
     "execution_count": 9,
     "metadata": {},
     "output_type": "execute_result"
    }
   ],
   "source": [
    "dados.Tipo.unique()"
   ]
  },
  {
   "cell_type": "code",
   "execution_count": 10,
   "id": "e3d64cc3",
   "metadata": {},
   "outputs": [
    {
     "data": {
      "text/plain": [
       "Apartamento           16923\n",
       "Casa de Condomínio      964\n",
       "Casa                    898\n",
       "Quitinete               813\n",
       "Casa de Vila            233\n",
       "Name: Tipo, dtype: int64"
      ]
     },
     "execution_count": 10,
     "metadata": {},
     "output_type": "execute_result"
    }
   ],
   "source": [
    "dados.Tipo.value_counts()"
   ]
  },
  {
   "cell_type": "code",
   "execution_count": null,
   "id": "e9165220",
   "metadata": {},
   "outputs": [],
   "source": []
  }
 ],
 "metadata": {
  "kernelspec": {
   "display_name": "Python 3 (ipykernel)",
   "language": "python",
   "name": "python3"
  },
  "language_info": {
   "codemirror_mode": {
    "name": "ipython",
    "version": 3
   },
   "file_extension": ".py",
   "mimetype": "text/x-python",
   "name": "python",
   "nbconvert_exporter": "python",
   "pygments_lexer": "ipython3",
   "version": "3.8.3"
  }
 },
 "nbformat": 4,
 "nbformat_minor": 5
}
